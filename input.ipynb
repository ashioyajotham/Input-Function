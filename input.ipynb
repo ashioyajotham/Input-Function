{
 "cells": [
  {
   "cell_type": "code",
   "execution_count": null,
   "id": "803d1851-13b4-4d32-b258-cbc293e36aea",
   "metadata": {},
   "outputs": [],
   "source": [
    "# The input function() allows a user to enter values into a program and return a string value by converting the inputs using any data type\n",
    "# It operates same way as raw_input() in python version 2\n"
   ]
  },
  {
   "cell_type": "code",
   "execution_count": null,
   "id": "00dce363-4824-4152-9138-08e117b2481d",
   "metadata": {},
   "outputs": [],
   "source": [
    "# input a string\n",
    "\n",
    "print(\"Tell me anything\")\n",
    "anything = input() #The input function is able to read data entered by the user \n",
    "                   #and to return the same data to the running program\n",
    "print(\"Hmm...\",anything, \"...Really?\")"
   ]
  },
  {
   "cell_type": "code",
   "execution_count": 1,
   "id": "b6382196-58af-4011-aae3-b394b6000ee0",
   "metadata": {},
   "outputs": [
    {
     "name": "stdin",
     "output_type": "stream",
     "text": [
      "Please enter your name vi\n"
     ]
    }
   ],
   "source": [
    "name = input(\"Please enter your name\")"
   ]
  },
  {
   "cell_type": "code",
   "execution_count": null,
   "id": "0508e826-7621-4972-a234-6c04ac423086",
   "metadata": {},
   "outputs": [],
   "source": [
    "# Input integer\n",
    "\n",
    "x = int(input())\n",
    "y = int(input())\n",
    "\n",
    "x = x // y\n",
    "y = y // x\n",
    "\n",
    "print(y)"
   ]
  },
  {
   "cell_type": "code",
   "execution_count": null,
   "id": "0b4d8dc6-322a-4e7d-ad57-912e85e5dc8a",
   "metadata": {},
   "outputs": [],
   "source": [
    "# Input an integer\n",
    "# Output a float\n",
    "\n",
    "x = int(input())\n",
    "y = int(input())\n",
    "x = x % y\n",
    "x = x % y\n",
    "y = y % x\n",
    "print(y)\n",
    "\n",
    "\n",
    "x = float(input())\n",
    "y = float(input())\n",
    "print(y ** (1/x))"
   ]
  }
 ],
 "metadata": {
  "kernelspec": {
   "display_name": "Python 3",
   "language": "python",
   "name": "python3"
  },
  "language_info": {
   "codemirror_mode": {
    "name": "ipython",
    "version": 3
   },
   "file_extension": ".py",
   "mimetype": "text/x-python",
   "name": "python",
   "nbconvert_exporter": "python",
   "pygments_lexer": "ipython3",
   "version": "3.9.7"
  },
  "widgets": {
   "application/vnd.jupyter.widget-state+json": {
    "state": {},
    "version_major": 2,
    "version_minor": 0
   }
  }
 },
 "nbformat": 4,
 "nbformat_minor": 5
}
